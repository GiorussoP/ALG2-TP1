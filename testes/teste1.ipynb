{
 "cells": [
  {
   "cell_type": "code",
   "execution_count": null,
   "id": "bdbe4fb6",
   "metadata": {},
   "outputs": [
    {
     "ename": "",
     "evalue": "",
     "output_type": "error",
     "traceback": [
      "\u001b[1;31mRunning cells with 'Python 3.10.12' requires the ipykernel package.\n",
      "\u001b[1;31m<a href='command:jupyter.createPythonEnvAndSelectController'>Create a Python Environment</a> with the required packages.\n",
      "\u001b[1;31mOr install 'ipykernel' using the command: '/bin/python3 -m pip install ipykernel -U --user --force-reinstall'"
     ]
    }
   ],
   "source": [
    "import folium\n",
    "from folium.plugins import MarkerCluster\n",
    "import pandas as pd\n",
    "\n",
    "# 1. Carregar dados com tratamento de erros\n",
    "try:\n",
    "    pontos = pd.read_csv(\"./dados/bares_restaurantes.csv\", sep=';')\n",
    "    \n",
    "    num = pontos[\"./dados/bares_restaurantes.csv\"].value_counts()\n",
    "\n",
    "    print(num)\n",
    "    # Verificar colunas necessárias\n",
    "    required_cols = {'LATITUDE', 'LONGITUDE', 'NOME_FANTASIA'}\n",
    "    if not required_cols.issubset(pontos.columns):\n",
    "        missing = required_cols - set(pontos.columns)\n",
    "        raise ValueError(f\"Colunas faltando: {missing}\")\n",
    "\n",
    "except Exception as e:\n",
    "    print(f\"Erro ao carregar dados: {e}\")\n",
    "    exit()\n",
    "\n",
    "# 2. Limpar dados - remover linhas com coordenadas inválidas\n",
    "pontos_clean = pontos.dropna(subset=['LATITUDE', 'LONGITUDE']).copy()\n",
    "\n",
    "# Converter para numérico e filtrar coordenadas válidas\n",
    "pontos_clean['LATITUDE'] = pd.to_numeric(pontos_clean['LATITUDE'], errors='coerce')\n",
    "pontos_clean['LONGITUDE'] = pd.to_numeric(pontos_clean['LONGITUDE'], errors='coerce')\n",
    "pontos_clean = pontos_clean.dropna(subset=['LATITUDE', 'LONGITUDE'])\n",
    "pontos_clean = pontos_clean[\n",
    "    (pontos_clean['LATITUDE'].between(-90, 90)) & \n",
    "    (pontos_clean['LONGITUDE'].between(-180, 180))\n",
    "]\n",
    "\n",
    "print(f\"Total de pontos válidos: {len(pontos_clean)}/{len(pontos)}\")\n",
    "\n",
    "# 3. Criar mapa\n",
    "m = folium.Map(\n",
    "    location=[-19.926214367710706, -43.93821802072859],\n",
    "    zoom_start=12,\n",
    "    tiles='OpenStreetMap'\n",
    ")\n",
    "\n",
    "# 4. Adicionar cluster\n",
    "marker_cluster = MarkerCluster().add_to(m)\n",
    "\n",
    "# 5. Adicionar marcadores\n",
    "for _, row in pontos_clean.iterrows():\n",
    "    popup = str(row['NOME_FANTASIA']) if pd.notna(row['NOME_FANTASIA']) else \"Sem nome\"\n",
    "    \n",
    "    folium.Marker(\n",
    "        location=[row['LATITUDE'], row['LONGITUDE']],\n",
    "        popup=popup,\n",
    "        icon=folium.Icon(color='blue', icon='info-sign')\n",
    "    ).add_to(marker_cluster)\n",
    "\n",
    "# 6. Salvar e abrir\n",
    "output_file = 'mapa_cluster.html'\n",
    "m.save(output_file)\n",
    "print(f\"Mapa salvo como {output_file}\")\n",
    "\n",
    "# Opcional: abrir automaticamente no navegador\n",
    "import webbrowser\n",
    "webbrowser.open(output_file)"
   ]
  }
 ],
 "metadata": {
  "kernelspec": {
   "display_name": "Python 3",
   "language": "python",
   "name": "python3"
  },
  "language_info": {
   "codemirror_mode": {
    "name": "ipython",
    "version": 3
   },
   "file_extension": ".py",
   "mimetype": "text/x-python",
   "name": "python",
   "nbconvert_exporter": "python",
   "pygments_lexer": "ipython3",
   "version": "3.10.12"
  }
 },
 "nbformat": 4,
 "nbformat_minor": 5
}
